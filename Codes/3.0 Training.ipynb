{
 "cells": [
  {
   "cell_type": "code",
   "execution_count": 1,
   "metadata": {},
   "outputs": [],
   "source": [
    "import numpy as np\n",
    "\n",
    "data=np.load('../res/Data/data.npy')\n",
    "target=np.load('../res/Data/target.npy')\n",
    "\n",
    "#loading the save numpy arrays in the previous code"
   ]
  },
  {
   "cell_type": "code",
   "execution_count": 2,
   "metadata": {},
   "outputs": [],
   "source": [
    "from keras.models import Sequential\n",
    "from keras.layers import Dense,Activation,Flatten\n",
    "from keras.layers import Conv2D,MaxPooling2D\n",
    "\n",
    "model=Sequential()\n",
    "\n",
    "model.add(Conv2D(256,(3,3),input_shape=data.shape[1:]))\n",
    "model.add(Activation('relu'))\n",
    "model.add(MaxPooling2D(pool_size=(2,2)))\n",
    "#The first CNN layer followed by Relu and MaxPooling layers\n",
    "\n",
    "model.add(Conv2D(128,(3,3)))\n",
    "model.add(Activation('relu'))\n",
    "model.add(MaxPooling2D(pool_size=(2,2)))\n",
    "#The second convolution layer followed by Relu and MaxPooling layers\n",
    "\n",
    "model.add(Flatten())\n",
    "#Flatten layer to stack the output convolutions from second convolution layer\n",
    "model.add(Dense(64,activation='relu'))\n",
    "#Dense layer of 64 neurons\n",
    "model.add(Dense(4,activation='softmax'))\n",
    "#The Final layer with two outputs for two categories\n",
    "\n",
    "model.compile(loss='categorical_crossentropy',optimizer='adam',metrics=['accuracy'])"
   ]
  },
  {
   "cell_type": "code",
   "execution_count": 3,
   "metadata": {},
   "outputs": [],
   "source": [
    "from sklearn.model_selection import train_test_split\n",
    "\n",
    "train_data,test_data,train_target,test_target=train_test_split(data,target,test_size=0.1)"
   ]
  },
  {
   "cell_type": "code",
   "execution_count": 4,
   "metadata": {},
   "outputs": [
    {
     "name": "stdout",
     "output_type": "stream",
     "text": [
      "Epoch 1/30\n",
      "836/836 [==============================] - 21s 19ms/step - loss: 1.1321 - accuracy: 0.4645\n",
      "Epoch 2/30\n",
      "836/836 [==============================] - 16s 19ms/step - loss: 0.7945 - accuracy: 0.6479\n",
      "Epoch 3/30\n",
      "836/836 [==============================] - 16s 19ms/step - loss: 0.7035 - accuracy: 0.6896\n",
      "Epoch 4/30\n",
      "836/836 [==============================] - 16s 19ms/step - loss: 0.6509 - accuracy: 0.7100\n",
      "Epoch 5/30\n",
      "836/836 [==============================] - 16s 19ms/step - loss: 0.6053 - accuracy: 0.7322\n",
      "Epoch 6/30\n",
      "836/836 [==============================] - 16s 19ms/step - loss: 0.5675 - accuracy: 0.7508\n",
      "Epoch 7/30\n",
      "836/836 [==============================] - 16s 19ms/step - loss: 0.5339 - accuracy: 0.7703\n",
      "Epoch 8/30\n",
      "836/836 [==============================] - 16s 19ms/step - loss: 0.4998 - accuracy: 0.7844\n",
      "Epoch 9/30\n",
      "836/836 [==============================] - 16s 19ms/step - loss: 0.4652 - accuracy: 0.8032\n",
      "Epoch 10/30\n",
      "836/836 [==============================] - 16s 19ms/step - loss: 0.4331 - accuracy: 0.8190\n",
      "Epoch 11/30\n",
      "836/836 [==============================] - 16s 19ms/step - loss: 0.4037 - accuracy: 0.8332\n",
      "Epoch 12/30\n",
      "836/836 [==============================] - 16s 19ms/step - loss: 0.3746 - accuracy: 0.8476\n",
      "Epoch 13/30\n",
      "836/836 [==============================] - 16s 19ms/step - loss: 0.3494 - accuracy: 0.8606\n",
      "Epoch 14/30\n",
      "836/836 [==============================] - 16s 19ms/step - loss: 0.3254 - accuracy: 0.8708\n",
      "Epoch 15/30\n",
      "836/836 [==============================] - 16s 19ms/step - loss: 0.2980 - accuracy: 0.8826\n",
      "Epoch 16/30\n",
      "836/836 [==============================] - 16s 19ms/step - loss: 0.2727 - accuracy: 0.8922\n",
      "Epoch 17/30\n",
      "836/836 [==============================] - 16s 19ms/step - loss: 0.2491 - accuracy: 0.9013\n",
      "Epoch 18/30\n",
      "836/836 [==============================] - 16s 19ms/step - loss: 0.2375 - accuracy: 0.9095\n",
      "Epoch 19/30\n",
      "836/836 [==============================] - 16s 19ms/step - loss: 0.2167 - accuracy: 0.9182\n",
      "Epoch 20/30\n",
      "836/836 [==============================] - 16s 19ms/step - loss: 0.2037 - accuracy: 0.9217\n",
      "Epoch 21/30\n",
      "836/836 [==============================] - 16s 19ms/step - loss: 0.1758 - accuracy: 0.9357\n",
      "Epoch 22/30\n",
      "836/836 [==============================] - 15s 18ms/step - loss: 0.1709 - accuracy: 0.9365\n",
      "Epoch 23/30\n",
      "836/836 [==============================] - 16s 19ms/step - loss: 0.1439 - accuracy: 0.9483\n",
      "Epoch 24/30\n",
      "836/836 [==============================] - 16s 19ms/step - loss: 0.1481 - accuracy: 0.9449\n",
      "Epoch 25/30\n",
      "836/836 [==============================] - 16s 19ms/step - loss: 0.1334 - accuracy: 0.9535\n",
      "Epoch 26/30\n",
      "836/836 [==============================] - 16s 19ms/step - loss: 0.1184 - accuracy: 0.9569\n",
      "Epoch 27/30\n",
      "836/836 [==============================] - 16s 19ms/step - loss: 0.1288 - accuracy: 0.9529\n",
      "Epoch 28/30\n",
      "836/836 [==============================] - 16s 19ms/step - loss: 0.1132 - accuracy: 0.9590\n",
      "Epoch 29/30\n",
      "836/836 [==============================] - 16s 19ms/step - loss: 0.0984 - accuracy: 0.9655\n",
      "Epoch 30/30\n",
      "836/836 [==============================] - 16s 19ms/step - loss: 0.0936 - accuracy: 0.9659\n"
     ]
    }
   ],
   "source": [
    "history=model.fit(train_data,train_target,epochs=30)"
   ]
  },
  {
   "cell_type": "code",
   "execution_count": 5,
   "metadata": {},
   "outputs": [
    {
     "data": {
      "text/plain": [
       "[<matplotlib.lines.Line2D at 0x2bce5ee90d0>]"
      ]
     },
     "execution_count": 5,
     "metadata": {},
     "output_type": "execute_result"
    },
    {
     "data": {
      "image/png": "[encoded data removed]",
      "text/plain": [
       "<Figure size 432x288 with 1 Axes>"
      ]
     },
     "metadata": {
      "needs_background": "light"
     },
     "output_type": "display_data"
    }
   ],
   "source": [
    "from matplotlib import pyplot as plt\n",
    "\n",
    "plt.plot(history.history['loss'])"
   ]
  },
  {
   "cell_type": "code",
   "execution_count": 6,
   "metadata": {},
   "outputs": [
    {
     "data": {
      "text/plain": [
       "[<matplotlib.lines.Line2D at 0x2bce5fbf670>]"
      ]
     },
     "execution_count": 6,
     "metadata": {},
     "output_type": "execute_result"
    },
    {
     "data": {
      "image/png": "[encoded data removed]",
      "text/plain": [
       "<Figure size 432x288 with 1 Axes>"
      ]
     },
     "metadata": {
      "needs_background": "light"
     },
     "output_type": "display_data"
    }
   ],
   "source": [
    "plt.plot(history.history['accuracy'])\n",
    "#if not working replace 'accuracy' with 'acc'"
   ]
  },
  {
   "cell_type": "code",
   "execution_count": 7,
   "metadata": {},
   "outputs": [
    {
     "name": "stdout",
     "output_type": "stream",
     "text": [
      "93/93 [==============================] - 1s 10ms/step - loss: 1.2331 - accuracy: 0.7854\n",
      "[1.2330800294876099, 0.7854019403457642]\n"
     ]
    }
   ],
   "source": [
    "print(model.evaluate(test_data,test_target))"
   ]
  },
  {
   "cell_type": "code",
   "execution_count": 8,
   "metadata": {},
   "outputs": [],
   "source": [
    "model.save_weights('../res/Models/modelAgeGender.h5')"
   ]
  }
 ],
 "metadata": {
  "kernelspec": {
   "display_name": "Python 3",
   "language": "python",
   "name": "python3"
  },
  "language_info": {
   "codemirror_mode": {
    "name": "ipython",
    "version": 3
   },
   "file_extension": ".py",
   "mimetype": "text/x-python",
   "name": "python",
   "nbconvert_exporter": "python",
   "pygments_lexer": "ipython3",
   "version": "3.8.5"
  }
 },
 "nbformat": 4,
 "nbformat_minor": 4
}
