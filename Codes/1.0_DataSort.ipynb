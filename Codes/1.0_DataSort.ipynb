{
 "cells": [
  {
   "cell_type": "code",
   "execution_count": 21,
   "metadata": {},
   "outputs": [],
   "source": [
    "import os, cv2"
   ]
  },
  {
   "cell_type": "code",
   "execution_count": 22,
   "metadata": {},
   "outputs": [],
   "source": [
    "data_dir = \"../res/combined_faces\"\n",
    "dest_dir = \"../res/Faces\""
   ]
  },
  {
   "cell_type": "code",
   "execution_count": 23,
   "metadata": {},
   "outputs": [
    {
     "name": "stdout",
     "output_type": "stream",
     "text": [
      "['100_1.jpg', '100_10.jpg', '100_11.jpg', '100_12.jpg', '100_13.jpg', '100_2.jpg', '100_3.jpg', '100_4.jpg', '100_5.jpg', '100_6.jpg']\n"
     ]
    }
   ],
   "source": [
    "faces = os.listdir(data_dir)\n",
    "\n",
    "print(faces[:10])"
   ]
  },
  {
   "cell_type": "code",
   "execution_count": 24,
   "metadata": {},
   "outputs": [],
   "source": [
    "for face in faces:\n",
    "    \n",
    "    try:\n",
    "    \n",
    "        img = cv2.imread(f\"{data_dir}/{face}\")\n",
    "        age = int(face.split('_')[0])\n",
    "\n",
    "        if(age>0 and age<4):\n",
    "            pass\n",
    "        elif(age>=4 and age<12):\n",
    "            cv2.imwrite(f\"{dest_dir}/4-12/{face}.jpg\", img)\n",
    "        elif(age>=12 and age<26):\n",
    "            cv2.imwrite(f\"{dest_dir}/13-26/{face}.jpg\", img)\n",
    "        elif(age>=26 and age<40):\n",
    "            cv2.imwrite(f\"{dest_dir}/27-40/{face}.jpg\", img)\n",
    "        else:\n",
    "            cv2.imwrite(f\"{dest_dir}/40+/{face}.jpg\", img)\n",
    "    except Exception as e:\n",
    "        print(e)"
   ]
  },
  {
   "cell_type": "code",
   "execution_count": null,
   "metadata": {},
   "outputs": [],
   "source": []
  }
 ],
 "metadata": {
  "kernelspec": {
   "display_name": "Python 3",
   "language": "python",
   "name": "python3"
  },
  "language_info": {
   "codemirror_mode": {
    "name": "ipython",
    "version": 3
   },
   "file_extension": ".py",
   "mimetype": "text/x-python",
   "name": "python",
   "nbconvert_exporter": "python",
   "pygments_lexer": "ipython3",
   "version": "3.8.5"
  }
 },
 "nbformat": 4,
 "nbformat_minor": 4
}
