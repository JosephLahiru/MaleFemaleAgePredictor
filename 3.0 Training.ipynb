{
 "cells": [
  {
   "cell_type": "code",
   "execution_count": 9,
   "metadata": {},
   "outputs": [],
   "source": [
    "import numpy as np\n",
    "\n",
    "data=np.load('data.npy')\n",
    "target=np.load('target.npy')\n",
    "\n",
    "#loading the save numpy arrays in the previous code"
   ]
  },
  {
   "cell_type": "code",
   "execution_count": 10,
   "metadata": {},
   "outputs": [],
   "source": [
    "from keras.models import Sequential\n",
    "from keras.layers import Dense,Activation,Flatten\n",
    "from keras.layers import Conv2D,MaxPooling2D\n",
    "\n",
    "model=Sequential()\n",
    "\n",
    "model.add(Conv2D(256,(3,3),input_shape=data.shape[1:]))\n",
    "model.add(Activation('relu'))\n",
    "model.add(MaxPooling2D(pool_size=(2,2)))\n",
    "#The first CNN layer followed by Relu and MaxPooling layers\n",
    "\n",
    "model.add(Conv2D(128,(3,3)))\n",
    "model.add(Activation('relu'))\n",
    "model.add(MaxPooling2D(pool_size=(2,2)))\n",
    "#The second convolution layer followed by Relu and MaxPooling layers\n",
    "\n",
    "model.add(Flatten())\n",
    "#Flatten layer to stack the output convolutions from second convolution layer\n",
    "model.add(Dense(64,activation='relu'))\n",
    "#Dense layer of 64 neurons\n",
    "model.add(Dense(8,activation='softmax'))\n",
    "#The Final layer with two outputs for two categories\n",
    "\n",
    "model.compile(loss='categorical_crossentropy',optimizer='adam',metrics=['accuracy'])"
   ]
  },
  {
   "cell_type": "code",
   "execution_count": 11,
   "metadata": {},
   "outputs": [],
   "source": [
    "from sklearn.model_selection import train_test_split\n",
    "\n",
    "train_data,test_data,train_target,test_target=train_test_split(data,target,test_size=0.1)"
   ]
  },
  {
   "cell_type": "code",
   "execution_count": 12,
   "metadata": {},
   "outputs": [
    {
     "name": "stdout",
     "output_type": "stream",
     "text": [
      "Epoch 1/30\n",
      "225/225 [==============================] - 5s 19ms/step - loss: 1.9556 - accuracy: 0.2260\n",
      "Epoch 2/30\n",
      "225/225 [==============================] - 4s 19ms/step - loss: 1.4607 - accuracy: 0.4576\n",
      "Epoch 3/30\n",
      "225/225 [==============================] - 4s 19ms/step - loss: 1.1320 - accuracy: 0.5906\n",
      "Epoch 4/30\n",
      "225/225 [==============================] - 4s 19ms/step - loss: 0.9430 - accuracy: 0.6747\n",
      "Epoch 5/30\n",
      "225/225 [==============================] - 4s 19ms/step - loss: 0.7942 - accuracy: 0.7219\n",
      "Epoch 6/30\n",
      "225/225 [==============================] - 4s 19ms/step - loss: 0.6702 - accuracy: 0.7632\n",
      "Epoch 7/30\n",
      "225/225 [==============================] - 4s 19ms/step - loss: 0.5475 - accuracy: 0.8099\n",
      "Epoch 8/30\n",
      "225/225 [==============================] - 4s 19ms/step - loss: 0.4409 - accuracy: 0.8490\n",
      "Epoch 9/30\n",
      "225/225 [==============================] - 4s 19ms/step - loss: 0.3656 - accuracy: 0.8756\n",
      "Epoch 10/30\n",
      "225/225 [==============================] - 4s 19ms/step - loss: 0.2885 - accuracy: 0.9020\n",
      "Epoch 11/30\n",
      "225/225 [==============================] - 4s 19ms/step - loss: 0.2322 - accuracy: 0.9231\n",
      "Epoch 12/30\n",
      "225/225 [==============================] - 4s 19ms/step - loss: 0.1790 - accuracy: 0.9449\n",
      "Epoch 13/30\n",
      "225/225 [==============================] - 4s 19ms/step - loss: 0.1386 - accuracy: 0.9556\n",
      "Epoch 14/30\n",
      "225/225 [==============================] - 4s 19ms/step - loss: 0.1258 - accuracy: 0.9621\n",
      "Epoch 15/30\n",
      "225/225 [==============================] - 4s 19ms/step - loss: 0.0850 - accuracy: 0.9754\n",
      "Epoch 16/30\n",
      "225/225 [==============================] - 4s 19ms/step - loss: 0.0948 - accuracy: 0.9673\n",
      "Epoch 17/30\n",
      "225/225 [==============================] - 4s 19ms/step - loss: 0.0799 - accuracy: 0.9757\n",
      "Epoch 18/30\n",
      "225/225 [==============================] - 4s 19ms/step - loss: 0.0518 - accuracy: 0.9855\n",
      "Epoch 19/30\n",
      "225/225 [==============================] - 4s 19ms/step - loss: 0.0817 - accuracy: 0.9728\n",
      "Epoch 20/30\n",
      "225/225 [==============================] - 4s 19ms/step - loss: 0.0945 - accuracy: 0.9698\n",
      "Epoch 21/30\n",
      "225/225 [==============================] - 4s 19ms/step - loss: 0.0549 - accuracy: 0.9823\n",
      "Epoch 22/30\n",
      "225/225 [==============================] - 4s 19ms/step - loss: 0.0367 - accuracy: 0.9891\n",
      "Epoch 23/30\n",
      "225/225 [==============================] - 4s 19ms/step - loss: 0.0729 - accuracy: 0.9768\n",
      "Epoch 24/30\n",
      "225/225 [==============================] - 4s 19ms/step - loss: 0.0471 - accuracy: 0.9838\n",
      "Epoch 25/30\n",
      "225/225 [==============================] - 4s 19ms/step - loss: 0.0380 - accuracy: 0.9909\n",
      "Epoch 26/30\n",
      "225/225 [==============================] - 4s 19ms/step - loss: 0.0714 - accuracy: 0.9756\n",
      "Epoch 27/30\n",
      "225/225 [==============================] - 4s 19ms/step - loss: 0.0548 - accuracy: 0.9827\n",
      "Epoch 28/30\n",
      "225/225 [==============================] - 4s 19ms/step - loss: 0.0387 - accuracy: 0.9889\n",
      "Epoch 29/30\n",
      "225/225 [==============================] - 4s 19ms/step - loss: 0.0156 - accuracy: 0.9965\n",
      "Epoch 30/30\n",
      "225/225 [==============================] - 4s 19ms/step - loss: 0.0068 - accuracy: 0.9989\n"
     ]
    }
   ],
   "source": [
    "history=model.fit(train_data,train_target,epochs=30)"
   ]
  },
  {
   "cell_type": "code",
   "execution_count": 13,
   "metadata": {},
   "outputs": [
    {
     "data": {
      "text/plain": [
       "[<matplotlib.lines.Line2D at 0x1d9d06526d0>]"
      ]
     },
     "execution_count": 13,
     "metadata": {},
     "output_type": "execute_result"
    },
    {
     "data": {
      "image/png": "[encoded data removed]",
      "text/plain": [
       "<Figure size 432x288 with 1 Axes>"
      ]
     },
     "metadata": {
      "needs_background": "light"
     },
     "output_type": "display_data"
    }
   ],
   "source": [
    "from matplotlib import pyplot as plt\n",
    "\n",
    "plt.plot(history.history['loss'])"
   ]
  },
  {
   "cell_type": "code",
   "execution_count": 14,
   "metadata": {},
   "outputs": [
    {
     "data": {
      "text/plain": [
       "[<matplotlib.lines.Line2D at 0x1d9d06aa640>]"
      ]
     },
     "execution_count": 14,
     "metadata": {},
     "output_type": "execute_result"
    },
    {
     "data": {
      "image/png": "[encoded data removed]",
      "text/plain": [
       "<Figure size 432x288 with 1 Axes>"
      ]
     },
     "metadata": {
      "needs_background": "light"
     },
     "output_type": "display_data"
    }
   ],
   "source": [
    "plt.plot(history.history['accuracy'])\n",
    "#if not working replace 'accuracy' with 'acc'"
   ]
  },
  {
   "cell_type": "code",
   "execution_count": 15,
   "metadata": {},
   "outputs": [
    {
     "name": "stdout",
     "output_type": "stream",
     "text": [
      "25/25 [==============================] - 0s 8ms/step - loss: 2.6937 - accuracy: 0.7163\n",
      "[2.6937367916107178, 0.7162500023841858]\n"
     ]
    }
   ],
   "source": [
    "print(model.evaluate(test_data,test_target))"
   ]
  },
  {
   "cell_type": "code",
   "execution_count": 16,
   "metadata": {},
   "outputs": [],
   "source": [
    "model.save_weights('modelAgeGender.h5')"
   ]
  },
  {
   "cell_type": "code",
   "execution_count": 17,
   "metadata": {},
   "outputs": [
    {
     "name": "stdout",
     "output_type": "stream",
     "text": [
      "[[1.7004103e-08 1.3495672e-17 1.5138780e-03 8.5315950e-13 1.7675878e-11\n",
      "  1.9981945e-09 9.9848610e-01 1.7799310e-17]] 6 40+_Female 99\n",
      "[[1.5185378e-17 1.3612176e-19 1.6527310e-27 1.1061973e-27 9.9986029e-01\n",
      "  1.3969121e-04 1.8307808e-28 1.9643215e-35]] 4 4-12_Female 99\n",
      "[[2.5092238e-03 2.4258553e-19 9.9749076e-01 3.6196348e-18 1.1573349e-22\n",
      "  6.5203467e-18 5.6278399e-11 8.1420728e-09]] 2 27-40_Female 99\n",
      "[[3.2150787e-17 7.8521325e-16 7.1946783e-07 9.9508578e-01 8.7679420e-24\n",
      "  2.1317062e-10 5.9984905e-06 4.9074823e-03]] 3 27-40_Male 99\n",
      "[[2.1135920e-17 2.5654477e-18 1.1620523e-01 5.8042914e-01 1.4467416e-19\n",
      "  8.0451440e-07 3.9613854e-16 3.0336490e-01]] 3 27-40_Male 58\n",
      "[[1.0362319e-05 5.2324759e-12 1.8730464e-07 9.9983454e-01 3.2792425e-16\n",
      "  1.5484469e-04 3.4702945e-13 1.3991106e-08]] 3 27-40_Male 99\n",
      "[[8.7678897e-10 9.9991286e-01 1.5105078e-07 4.9231672e-09 9.4450501e-09\n",
      "  3.0216972e-05 1.0113159e-07 5.6694178e-05]] 1 13-26_Male 99\n",
      "[[9.9992812e-01 6.7837032e-18 5.1421051e-07 1.7623210e-08 2.1377956e-20\n",
      "  2.6008040e-19 5.9354320e-11 7.1429735e-05]] 0 13-26_Female 99\n",
      "[[6.6875133e-10 1.8106325e-13 6.0963630e-09 9.9995577e-01 3.7722707e-21\n",
      "  2.4261560e-06 1.2650885e-10 4.1756848e-05]] 3 27-40_Male 99\n",
      "[[9.9806219e-01 2.0848352e-15 1.9370083e-03 1.6224423e-11 3.4545437e-16\n",
      "  9.0095509e-13 7.9521232e-07 1.3536489e-10]] 0 13-26_Female 99\n",
      "[[4.6677890e-08 7.9039914e-11 7.7232855e-08 3.5384393e-01 1.4684671e-04\n",
      "  6.4600337e-01 5.6872063e-06 2.5112232e-09]] 5 4-12_Male 64\n",
      "[[6.7087029e-05 2.1836676e-19 3.3104194e-03 2.7709566e-06 8.2184830e-05\n",
      "  9.8987597e-01 6.6616144e-03 4.5158344e-10]] 5 4-12_Male 98\n",
      "[[3.1099862e-06 2.5439903e-26 9.9917704e-01 4.3362391e-15 2.3192341e-22\n",
      "  1.1256671e-20 2.4963901e-14 8.1982178e-04]] 2 27-40_Female 99\n"
     ]
    }
   ],
   "source": [
    "import os\n",
    "import cv2\n",
    "import numpy as np\n",
    "\n",
    "test_path='test1'\n",
    "\n",
    "img_names=os.listdir(test_path)\n",
    "category_dict={0:'13-26_Female', 1:'13-26_Male', 2:'27-40_Female', 3:'27-40_Male', 4:'4-12_Female', 5:'4-12_Male', 6:'40+_Female', 7:'40+_Male'}\n",
    "\n",
    "for img_name in img_names:\n",
    "    img=cv2.imread(os.path.join(test_path,img_name))\n",
    "    h,w=img.shape[0:2]\n",
    "\n",
    "    #preprocessing (As done for the training images)\n",
    "    test_img=cv2.resize(img,(50,50))\n",
    "    test_img=cv2.cvtColor(test_img,cv2.COLOR_BGR2GRAY)\n",
    "    test_img=test_img/255\n",
    "    test_img=test_img.reshape(1,50,50,1)\n",
    "    \n",
    "    results=model.predict(test_img)\n",
    "    label=np.argmax(results,axis=1)[0]\n",
    "    acc=int(np.max(results,axis=1)[0]*100)\n",
    "    \n",
    "    print(results,label,category_dict[label],acc)\n",
    "    \n",
    "    img[0:50,0:w]=[0,255,0]\n",
    "    cv2.putText(img,category_dict[label],(20,40),cv2.FONT_HERSHEY_SIMPLEX,1.5,(255,255,255),2)\n",
    "    cv2.putText(img,str(acc)+'%',(400,40),cv2.FONT_HERSHEY_SIMPLEX,1.5,(255,255,255),2)\n",
    "    \n",
    "    cv2.imshow('LIVE',img)\n",
    "    k=cv2.waitKey(10000)\n",
    "    if(k==27):\n",
    "        break\n",
    "cv2.destroyAllWindows()"
   ]
  },
  {
   "cell_type": "code",
   "execution_count": null,
   "metadata": {},
   "outputs": [],
   "source": []
  },
  {
   "cell_type": "code",
   "execution_count": null,
   "metadata": {},
   "outputs": [],
   "source": []
  }
 ],
 "metadata": {
  "kernelspec": {
   "display_name": "Python 3",
   "language": "python",
   "name": "python3"
  },
  "language_info": {
   "codemirror_mode": {
    "name": "ipython",
    "version": 3
   },
   "file_extension": ".py",
   "mimetype": "text/x-python",
   "name": "python",
   "nbconvert_exporter": "python",
   "pygments_lexer": "ipython3",
   "version": "3.8.5"
  }
 },
 "nbformat": 4,
 "nbformat_minor": 4
}
